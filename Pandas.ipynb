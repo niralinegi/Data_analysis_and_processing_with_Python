{
 "cells": [
  {
   "cell_type": "markdown",
   "id": "ca5eb5b3",
   "metadata": {},
   "source": [
    "What is pandas?\n",
    "\n",
    "Pandas is an open-source Python library that provides powerful, flexible and high-performance tools to process data. It was developed in 2008 by Wes McKinney.\n",
    "\n",
    "Some of its key features are as follows:\n",
    "\n",
    "- Provides high-performance DataFrame objects with effective indexing.\n",
    "- Provides tools for loading data into memory with multiple file formats.\n",
    "- Provides high performance for operations such as data merges and joins.\n",
    "- Supports manipulation of time series data.\n",
    "- Easy to manipulate row and column data.\n",
    "- Supports SQL-like operations.\n",
    "- Supports vectorized operations.\n",
    "- Provides label-based slicing, indexing, and subsetting of large data sets."
   ]
  },
  {
   "cell_type": "markdown",
   "id": "04d78d2e",
   "metadata": {},
   "source": [
    "- How to manipulate Tabular data.\n",
    "- Aggregation data on multiple dimensions.\n",
    "- SQL-like data join, group, and sort.\n",
    "- Powerful data filtering.\n",
    "- I/O of multiple file formats.\n",
    "- Extensive type support, such as int, float, string, and datetime.\n",
    "- Advanced usage of pandas, such as memory usage reduction, sped up file loading and sped up operations."
   ]
  },
  {
   "cell_type": "markdown",
   "id": "b39085b2",
   "metadata": {},
   "source": [
    "### Datastructures in Pandas\n",
    "- Series\n",
    "- DataFrame"
   ]
  },
  {
   "cell_type": "markdown",
   "id": "9ae8e81f",
   "metadata": {},
   "source": [
    "### Series\n",
    "Its a one dimensional array consisting of elements with multiple data types.\n",
    "\n",
    "can create a series from:\n",
    "\n",
    "- A Python dictionary or list.\n",
    "- A Numpy ndarray.\n",
    "- A scalar value."
   ]
  },
  {
   "cell_type": "markdown",
   "id": "8a0293ca",
   "metadata": {},
   "source": [
    "### DataFrame\n",
    "DataFrame is a two-dimensional data structure with columns of different types. You can think of it like an MS Excel or SQL table, or a dictionary of series type objects.\n",
    "\n",
    "Pandas provides many APIs to manipulate the data frame objects using slices, indexing, aggregation, and statistical operations.\n",
    "\n",
    "You can create a DataFrame from:\n",
    "\n",
    "- Dictionary of lists and dictionary of Series.\n",
    "- CSV, TSV, or MS Excel."
   ]
  },
  {
   "cell_type": "markdown",
   "id": "4ec9b50b",
   "metadata": {},
   "source": [
    "#### Create a Series from a list without an index"
   ]
  },
  {
   "cell_type": "code",
   "execution_count": 1,
   "id": "08c8fe70",
   "metadata": {},
   "outputs": [
    {
     "name": "stdout",
     "output_type": "stream",
     "text": [
      "0    1\n",
      "1    2\n",
      "2    3\n",
      "3    4\n",
      "4    5\n",
      "5    6\n",
      "6    7\n",
      "7    8\n",
      "8    9\n",
      "dtype: int64\n",
      "4\n"
     ]
    }
   ],
   "source": [
    "import pandas as pd \n",
    "\n",
    "li = range(1,10)\n",
    "se = pd.Series(li)\n",
    "print(se)\n",
    "print(se[3])"
   ]
  },
  {
   "cell_type": "markdown",
   "id": "fe17beb2",
   "metadata": {},
   "source": [
    "#### Create a Series from a list with a specified index"
   ]
  },
  {
   "cell_type": "code",
   "execution_count": 2,
   "id": "915a2483",
   "metadata": {},
   "outputs": [
    {
     "name": "stdout",
     "output_type": "stream",
     "text": [
      "aa        1\n",
      "bb        2\n",
      "ccc       3\n",
      "dddd      4\n",
      "eeeeee    5\n",
      "dtype: int64\n",
      "------------------\n",
      "the index ccc -> value is 3\n"
     ]
    }
   ],
   "source": [
    "l = range(1, 6)\n",
    "# l is [1, 2, 3, 4, 5]\n",
    "idx = [\"aa\", \"bb\", \"ccc\", \"dddd\", \"eeeeee\"]\n",
    "s = pd.Series(l, idx)\n",
    "print(s)\n",
    "print(\"------------------\")\n",
    "i = \"ccc\"\n",
    "print(\"the index {} -> value is {}\".format(i, s[i]))"
   ]
  },
  {
   "cell_type": "markdown",
   "id": "3169a4ea",
   "metadata": {},
   "source": [
    "#### Create a Series from a Python dict"
   ]
  },
  {
   "cell_type": "code",
   "execution_count": 3,
   "id": "501b92d7",
   "metadata": {},
   "outputs": [
    {
     "name": "stdout",
     "output_type": "stream",
     "text": [
      "bb     1\n",
      "a      0\n",
      "ccc    2\n",
      "dtype: int64\n",
      "------------------\n",
      "the index ccc -> value is 2\n"
     ]
    }
   ],
   "source": [
    "d = {'bb': 1, 'a': 0, 'ccc': 2}\n",
    "s = pd.Series(d)\n",
    "print(s)\n",
    "print(\"------------------\")\n",
    "i = \"ccc\"\n",
    "print(\"the index {} -> value is {}\".format(i, s[i]))"
   ]
  },
  {
   "cell_type": "markdown",
   "id": "2390b776",
   "metadata": {},
   "source": [
    "### Create a Series from a Numpy ndarray"
   ]
  },
  {
   "cell_type": "code",
   "execution_count": 4,
   "id": "05181217",
   "metadata": {},
   "outputs": [
    {
     "name": "stdout",
     "output_type": "stream",
     "text": [
      "<class 'numpy.ndarray'>\n",
      "----------------------------\n",
      "0    1\n",
      "1    2\n",
      "2    3\n",
      "3    4\n",
      "4    5\n",
      "5    6\n",
      "6    7\n",
      "7    8\n",
      "8    9\n",
      "dtype: int32\n",
      "the index 3 -> value is 4\n"
     ]
    }
   ],
   "source": [
    "import pandas as pd\n",
    "import numpy as np\n",
    "\n",
    "l = np.arange(1, 10)\n",
    "print(type(l))\n",
    "print(\"----------------------------\")\n",
    "s = pd.Series(l)\n",
    "print(s)\n",
    "i = 3\n",
    "print(\"the index {} -> value is {}\".format(i, s[3]))"
   ]
  },
  {
   "cell_type": "markdown",
   "id": "74fa548e",
   "metadata": {},
   "source": [
    "#### Create a Series from a scalar value"
   ]
  },
  {
   "cell_type": "code",
   "execution_count": 5,
   "id": "aed539e6",
   "metadata": {},
   "outputs": [
    {
     "name": "stdout",
     "output_type": "stream",
     "text": [
      "0    3\n",
      "dtype: int64\n",
      "----------------------------\n",
      "1    3\n",
      "2    3\n",
      "3    3\n",
      "dtype: int64\n"
     ]
    }
   ],
   "source": [
    "s = pd.Series(3)\n",
    "print(s)\n",
    "print(\"----------------------------\")\n",
    "s = pd.Series(3, index=range(1,4))\n",
    "print(s)"
   ]
  },
  {
   "cell_type": "markdown",
   "id": "6ebec85e",
   "metadata": {},
   "source": [
    "## Manipulating Series Objects"
   ]
  },
  {
   "cell_type": "code",
   "execution_count": 6,
   "id": "4afece3e",
   "metadata": {},
   "outputs": [
    {
     "name": "stdout",
     "output_type": "stream",
     "text": [
      "The second value of s is 2\n",
      "-----------------\n",
      "The second and sixth value of s is [2 6]\n",
      "-----------------\n",
      "All elements of s from the sixth index onwards are [ 6  7  8  9 10 11 12 13 14 15 16 17 18 19]\n",
      "-----------------\n",
      "All elements of s from index=1 to the index=10with step=2 onwards are [ 2  4  6  8 10]\n",
      "-----------------\n"
     ]
    }
   ],
   "source": [
    "import pandas as pd\n",
    "\n",
    "s = pd.Series(range(1, 20))\n",
    "# integer index\n",
    "print(\"The second value of s is {}\".format(s[1]))\n",
    "print(\"-----------------\")\n",
    "# tuple index\n",
    "print(\"The second and sixth value of s is {}\".format(s[[1, 5]].values))\n",
    "print(\"-----------------\")\n",
    "# to the end elements\n",
    "print(\"All elements of s from the sixth index onwards are {}\".format(s[5:].values))\n",
    "print(\"-----------------\")\n",
    "# [start:stop:step]\n",
    "print(\"All elements of s from index=1 to the index=10\"\n",
    "      \"with step=2 onwards are {}\".format(s[1:10:2].values))\n",
    "print(\"-----------------\")"
   ]
  },
  {
   "cell_type": "markdown",
   "id": "95d5bf66",
   "metadata": {},
   "source": [
    "### Advanced slicing\n",
    "It can be used if you want to pick up elements from a series without knowing their exact position or value"
   ]
  },
  {
   "cell_type": "code",
   "execution_count": 7,
   "id": "b6fdc233",
   "metadata": {},
   "outputs": [
    {
     "name": "stdout",
     "output_type": "stream",
     "text": [
      "All even number in the series are [ 2  4  6  8 10 12 14 16 18]\n",
      "-----------------\n",
      "All numbers which is larger than 8 in the series are [ 9 10 11 12 13 14 15 16 17 18 19]\n",
      "-----------------\n",
      "All numbesr which is larger than the mean of the series in this series are [11 12 13 14 15 16 17 18 19]\n",
      "-----------------\n"
     ]
    }
   ],
   "source": [
    "s = pd.Series(range(1, 20))\n",
    "# get all even number\n",
    "s1 = s[s%2==0]\n",
    "print(\"All even number in the series are {}\".format(s1.values))\n",
    "print(\"-----------------\")\n",
    "s2 = s[s>8]\n",
    "print(\"All numbers which is larger than 8 in the series are {}\".format(s2.values))\n",
    "print(\"-----------------\")\n",
    "s3 = s[s > s.mean()]\n",
    "print(\"All numbesr which is larger than the mean of the series\"\n",
    "      \" in this series are {}\".format(s3.values))\n",
    "print(\"-----------------\")"
   ]
  },
  {
   "cell_type": "markdown",
   "id": "757649d4",
   "metadata": {},
   "source": [
    "### Creating a DataFrame From Arrays and Lists\n",
    "- Create a DataFrame from a Numpy ndarray\n",
    "- Create a DataFrame from a dictionary of lists"
   ]
  },
  {
   "cell_type": "code",
   "execution_count": 8,
   "id": "97284f4e",
   "metadata": {},
   "outputs": [
    {
     "name": "stdout",
     "output_type": "stream",
     "text": [
      "The original Numpy array\n",
      "[[ 0.58910041 -1.25899478  0.63454806]\n",
      " [-0.62668169 -1.17976927  0.60925955]]\n",
      "---------------------\n",
      "The DataFrame \n",
      "          0         1         2\n",
      "0  0.589100 -1.258995  0.634548\n",
      "1 -0.626682 -1.179769  0.609260\n"
     ]
    }
   ],
   "source": [
    "# Create a DataFrame from a Numpy ndarray\n",
    "\n",
    "d = np.random.normal(size=(2,3))\n",
    "print(\"The original Numpy array\")\n",
    "print(d)\n",
    "print(\"---------------------\")\n",
    "\n",
    "s = pd.DataFrame(d)\n",
    "print(\"The DataFrame \")\n",
    "print(s)"
   ]
  },
  {
   "cell_type": "code",
   "execution_count": 9,
   "id": "16748283",
   "metadata": {},
   "outputs": [
    {
     "name": "stdout",
     "output_type": "stream",
     "text": [
      "The DataFrame \n",
      "   a  b\n",
      "0  1  2\n",
      "1  2  4\n",
      "2  3  6\n",
      "3  4  8\n",
      "---------------------\n",
      "The values of column a are [1 2 3 4]\n",
      "The DataFrame \n",
      "      a    b\n",
      "a1  1.0  NaN\n",
      "a2  2.0  NaN\n",
      "c   3.0  9.0\n",
      "b1  NaN  2.0\n",
      "b2  NaN  4.0\n"
     ]
    }
   ],
   "source": [
    "# Create a DataFrame from a dictionary of lists\n",
    "\n",
    "# example 1: init a dataframe by dict without index\n",
    "d = {\"a\": [1, 2, 3, 4], \"b\": [2, 4, 6, 8]}\n",
    "df = pd.DataFrame(d)\n",
    "print(\"The DataFrame \")\n",
    "print(df)\n",
    "print(\"---------------------\")\n",
    "print(\"The values of column a are {}\".format(df[\"a\"].values))\n",
    "\n",
    "# example 2: init a dataframe by dict with different index\n",
    "d = {\"a\": {\"a1\":1, \"a2\":2, \"c\":3}, \"b\":{\"b1\":2, \"b2\":4, \"c\":9}}\n",
    "df = pd.DataFrame(d)\n",
    "print(\"The DataFrame \")\n",
    "print(df)"
   ]
  },
  {
   "cell_type": "markdown",
   "id": "a227a180",
   "metadata": {},
   "source": [
    "### Creating a DataFrame From a Series"
   ]
  },
  {
   "cell_type": "code",
   "execution_count": 10,
   "id": "fbeb60b4",
   "metadata": {},
   "outputs": [
    {
     "name": "stdout",
     "output_type": "stream",
     "text": [
      "DataFrame created from a dictionary of series:    a  b\n",
      "0  1  2\n",
      "1  2  3\n",
      "dataframe created from dict of series with index\n",
      "     a    b\n",
      "a  1.0  NaN\n",
      "b  2.0  2.0\n",
      "c  NaN  3.0\n"
     ]
    }
   ],
   "source": [
    "# Create a DataFrame from a dictionary of series\n",
    "\n",
    "s = {\"a\": pd.Series(range(1,3)), \"b\": pd.Series(range(2,4))}\n",
    "df = pd.DataFrame(s)\n",
    "print(\"DataFrame created from a dictionary of series: {}\".format(df))\n",
    "\n",
    "# example 2: series with index\n",
    "s = {\n",
    "    \"a\": pd.Series(range(1, 3), index=[\"a\", \"b\"]),\n",
    "    \"b\": pd.Series(range(2, 4), index=[\"b\", \"c\"])\n",
    "}\n",
    "df = pd.DataFrame(s)\n",
    "print(\"dataframe created from dict of series with index\")\n",
    "print(df)"
   ]
  },
  {
   "cell_type": "markdown",
   "id": "de283224",
   "metadata": {},
   "source": [
    "## Indexing and Slicing"
   ]
  },
  {
   "cell_type": "markdown",
   "id": "7f86e4c7",
   "metadata": {},
   "source": [
    "Operation on the whole DataFrame#\n",
    "\n",
    "How do you calculate the mean of the entire DataFrame?"
   ]
  },
  {
   "cell_type": "code",
   "execution_count": 11,
   "id": "10a1b07f",
   "metadata": {},
   "outputs": [
    {
     "name": "stdout",
     "output_type": "stream",
     "text": [
      "The sum of the whole DataFrame is 405\n",
      "---------------------------\n",
      "The sum of the whole DataFrame is 405\n"
     ]
    }
   ],
   "source": [
    "# create a matrix, the size is 10*3\n",
    "d = {\"a\":range(1, 10), \"b\": range(11,20), \"c\": range(21,30)}\n",
    "df = pd.DataFrame(d)\n",
    "\n",
    "# option 1: convert DataFrame to a single column\n",
    "print(\"The sum of the whole DataFrame is {}\".format(df.stack().sum()))\n",
    "print(\"---------------------------\")\n",
    "# option 2: use Numpy function on DataFrame property values\n",
    "print(\"The sum of the whole DataFrame is {}\".format(np.sum(df.values)))\n"
   ]
  },
  {
   "cell_type": "markdown",
   "id": "74eb51b3",
   "metadata": {},
   "source": [
    "## Concatenation\n",
    "- append() with same column\n",
    "- append() with different column\n",
    "- concat with outer join\n",
    "- concat with inner join\n",
    "- Comparison with SQL join"
   ]
  },
  {
   "cell_type": "code",
   "execution_count": 12,
   "id": "7a080422",
   "metadata": {},
   "outputs": [
    {
     "name": "stdout",
     "output_type": "stream",
     "text": [
      "The first DataFrame\n",
      "   a  b\n",
      "0  1  2\n",
      "1  2  4\n",
      "------------------------\n",
      "The second DataFrame\n",
      "   a  b\n",
      "0  3  6\n",
      "1  4  8\n",
      "------------------------\n",
      "Append the second DataFrame to the first one\n",
      "   a  b\n",
      "0  1  2\n",
      "1  2  4\n",
      "0  3  6\n",
      "1  4  8\n",
      "Append the second DataFrame to the first one and set ignore_index=True\n",
      "   a  b\n",
      "0  1  2\n",
      "1  2  4\n",
      "2  3  6\n",
      "3  4  8\n",
      "4  3  6\n",
      "5  4  8\n"
     ]
    }
   ],
   "source": [
    "# append() with same column\n",
    "d1 = {\"a\": [1, 2], \"b\": [2, 4]}\n",
    "df1 = pd.DataFrame(d1)\n",
    "print(\"The first DataFrame\")\n",
    "print(df1)\n",
    "print(\"------------------------\")\n",
    "d2 = {\"a\": [3, 4], \"b\": [6, 8]}\n",
    "df2 = pd.DataFrame(d2)\n",
    "print(\"The second DataFrame\")\n",
    "print(df2)\n",
    "print(\"------------------------\")\n",
    "\n",
    "df1 = df1.append(df2)\n",
    "print(\"Append the second DataFrame to the first one\")\n",
    "print(df1)\n",
    "\n",
    "print(\"Append the second DataFrame to the first one and set ignore_index=True\")\n",
    "df1 = df1.append(df2, ignore_index=True)\n",
    "print(df1)"
   ]
  },
  {
   "cell_type": "code",
   "execution_count": 13,
   "id": "e1ae0a82",
   "metadata": {},
   "outputs": [
    {
     "name": "stdout",
     "output_type": "stream",
     "text": [
      "The first DataFrame\n",
      "   b  c\n",
      "0  1  2\n",
      "1  2  4\n",
      "------------------------\n",
      "The second DataFrame\n",
      "   c  d\n",
      "0  3  6\n",
      "1  4  8\n",
      "------------------------\n",
      "Append the second DataFrame to the first one\n",
      "     b  c    d\n",
      "0  1.0  2  NaN\n",
      "1  2.0  4  NaN\n",
      "0  NaN  3  6.0\n",
      "1  NaN  4  8.0\n"
     ]
    }
   ],
   "source": [
    "# append() with different column\n",
    "d1 = {\"b\": [1, 2], \"c\": [2, 4]}\n",
    "df1 = pd.DataFrame(d1)\n",
    "print(\"The first DataFrame\")\n",
    "print(df1)\n",
    "print(\"------------------------\")\n",
    "d2 = {\"c\": [3, 4], \"d\": [6, 8]}\n",
    "df2 = pd.DataFrame(d2)\n",
    "print(\"The second DataFrame\")\n",
    "print(df2)\n",
    "df2 = pd.DataFrame(d2)\n",
    "print(\"------------------------\")\n",
    "\n",
    "df1 = df1.append(df2)\n",
    "print(\"Append the second DataFrame to the first one\")\n",
    "print(df1)"
   ]
  },
  {
   "cell_type": "code",
   "execution_count": 14,
   "id": "7ac3065e",
   "metadata": {},
   "outputs": [
    {
     "name": "stdout",
     "output_type": "stream",
     "text": [
      "The first DataFrame\n",
      "   a  b\n",
      "1  1  2\n",
      "2  2  4\n",
      "------------------------\n",
      "The second DataFrame\n",
      "   c  d\n",
      "2  3  6\n",
      "3  4  8\n",
      "------------------------\n",
      "The outer join DataFrame\n",
      "     a    b    c    d\n",
      "1  1.0  2.0  NaN  NaN\n",
      "2  2.0  4.0  3.0  6.0\n",
      "3  NaN  NaN  4.0  8.0\n"
     ]
    }
   ],
   "source": [
    "# concat with outer join\n",
    "d1 = {\"a\": [1, 2], \"b\": [2, 4]}\n",
    "df1 = pd.DataFrame(d1, index=[1, 2])\n",
    "print(\"The first DataFrame\")\n",
    "print(df1)\n",
    "print(\"------------------------\")\n",
    "d2 = {\"c\": [3, 4], \"d\": [6, 8]}\n",
    "df2 = pd.DataFrame(d2, index=[2, 3])\n",
    "print(\"The second DataFrame\")\n",
    "print(df2)\n",
    "print(\"------------------------\")\n",
    "print(\"The outer join DataFrame\")\n",
    "df3 = pd.concat([df1, df2], axis=1)\n",
    "print(df3)"
   ]
  },
  {
   "cell_type": "code",
   "execution_count": 15,
   "id": "5e1323b2",
   "metadata": {},
   "outputs": [
    {
     "name": "stdout",
     "output_type": "stream",
     "text": [
      "The first DataFrame\n",
      "   a  b\n",
      "1  1  2\n",
      "2  2  4\n",
      "------------------------\n",
      "The second DataFrame\n",
      "   c  d\n",
      "2  3  6\n",
      "3  4  8\n",
      "------------------------\n",
      "The inner join DataFrame\n",
      "   a  b  c  d\n",
      "2  2  4  3  6\n"
     ]
    }
   ],
   "source": [
    "# concat with inner join\n",
    "d1 = {\"a\": [1, 2], \"b\": [2, 4]}\n",
    "df1 = pd.DataFrame(d1, index=[1, 2])\n",
    "print(\"The first DataFrame\")\n",
    "print(df1)\n",
    "print(\"------------------------\")\n",
    "d2 = {\"c\": [3, 4], \"d\": [6, 8]}\n",
    "df2 = pd.DataFrame(d2, index=[2, 3])\n",
    "print(\"The second DataFrame\")\n",
    "print(df2)\n",
    "print(\"------------------------\")\n",
    "print(\"The inner join DataFrame\")\n",
    "df3 = pd.concat([df1, df2], axis=1, join=\"inner\")\n",
    "print(df3)"
   ]
  },
  {
   "cell_type": "markdown",
   "id": "e5588e1f",
   "metadata": {},
   "source": [
    "## Grouping Data\n",
    "- Group by one column\n",
    "- Group by multiple columns\n",
    "- Get the group items\n",
    "- Get a single group"
   ]
  },
  {
   "cell_type": "code",
   "execution_count": 16,
   "id": "1a7b4247",
   "metadata": {},
   "outputs": [],
   "source": [
    "f = open(\"C:/Users/Nirali/sample1.csv\", 'w')"
   ]
  },
  {
   "cell_type": "code",
   "execution_count": 17,
   "id": "3490c5b1",
   "metadata": {},
   "outputs": [],
   "source": [
    "import csv\n",
    "\n",
    "header = ['name','price','width','category']\n",
    "data = [['cat','102','2.3','A'],\n",
    "        ['dog','34','7.8','A'],\n",
    "        ['cat','125','8.9','B'],\n",
    "        ['dog','45','3.3','A'],\n",
    "        ['cat','212','3.0','B'],\n",
    "        ['dog','67','8.1','B'],\n",
    "        ['cat','102','2.3','A'],\n",
    "        ['dog','34','7.8','B'],\n",
    "        ['cat','125','8.9','B'],\n",
    "        ['dog','45','3.3','A'],\n",
    "        ['cat','212','3.0','B'],\n",
    "        ['dog','67','8.1','A']\n",
    "       ]\n",
    "\n",
    "with open(\"C:/Users/Nirali/sample1.csv\", 'w', newline='') as f:\n",
    "    writer = csv.writer(f)\n",
    "    writer.writerow(header)\n",
    "    writer.writerows(data)"
   ]
  },
  {
   "cell_type": "code",
   "execution_count": 18,
   "id": "97f9afbc",
   "metadata": {},
   "outputs": [
    {
     "name": "stdout",
     "output_type": "stream",
     "text": [
      "      price  width\n",
      "name              \n",
      "cat     878   28.4\n",
      "dog     292   38.4\n"
     ]
    }
   ],
   "source": [
    "df = pd.read_csv('C:/Users/Nirali/sample1.csv', sep=\",\")\n",
    "result = df.groupby('name').sum()\n",
    "print(result)"
   ]
  },
  {
   "cell_type": "code",
   "execution_count": 19,
   "id": "c948c3e3",
   "metadata": {},
   "outputs": [
    {
     "name": "stdout",
     "output_type": "stream",
     "text": [
      "Group by \"name\" and \"category\" column and sum them\n",
      "-------------------------------------\n",
      "               price  width\n",
      "name category              \n",
      "cat  A           204    4.6\n",
      "     B           674   23.8\n",
      "dog  A           191   22.5\n",
      "     B           101   15.9\n"
     ]
    }
   ],
   "source": [
    "# group by multiple cols\n",
    "df = pd.read_csv(\"sample1.csv\", sep=\",\")\n",
    "result = df.groupby([\"name\", \"category\"]).sum()\n",
    "print(\"Group by \\\"name\\\" and \\\"category\\\" column and sum them\")\n",
    "print(\"-------------------------------------\")\n",
    "print(result)"
   ]
  },
  {
   "cell_type": "code",
   "execution_count": 20,
   "id": "af2da64a",
   "metadata": {},
   "outputs": [
    {
     "name": "stdout",
     "output_type": "stream",
     "text": [
      "{'cat': [0, 2, 4, 6, 8, 10], 'dog': [1, 3, 5, 7, 9, 11]}\n"
     ]
    }
   ],
   "source": [
    "#The attribute groups is a dictionary whose keys are the unique group names \n",
    "#and the corresponding values are the axis labels for each group item.\n",
    "\n",
    "df = pd.read_csv(\"sample1.csv\", sep=\",\")\n",
    "g = df.groupby(\"name\").groups\n",
    "print(g)"
   ]
  },
  {
   "cell_type": "code",
   "execution_count": 21,
   "id": "02d46e88",
   "metadata": {},
   "outputs": [
    {
     "name": "stdout",
     "output_type": "stream",
     "text": [
      "Get the \"cat\" group\n",
      "   name  price  width category\n",
      "0   cat    102    2.3        A\n",
      "2   cat    125    8.9        B\n",
      "4   cat    212    3.0        B\n",
      "6   cat    102    2.3        A\n",
      "8   cat    125    8.9        B\n",
      "10  cat    212    3.0        B\n"
     ]
    }
   ],
   "source": [
    "df = pd.read_csv(\"sample1.csv\", sep=\",\")\n",
    "g1 = df.groupby(\"name\")\n",
    "print(\"Get the \\\"cat\\\" group\")\n",
    "print(g1.get_group(\"cat\"))"
   ]
  },
  {
   "cell_type": "markdown",
   "id": "77dd3454",
   "metadata": {},
   "source": [
    "#### Aggregate"
   ]
  },
  {
   "cell_type": "code",
   "execution_count": 22,
   "id": "b5af80cd",
   "metadata": {},
   "outputs": [
    {
     "name": "stdout",
     "output_type": "stream",
     "text": [
      "name\n",
      "cat    878\n",
      "dog    292\n",
      "Name: price, dtype: int64\n",
      "calculate the sum/mean/std for name group price column\n",
      "      sum        mean        std\n",
      "name                            \n",
      "cat   878  146.333333  51.894765\n",
      "dog   292   48.666667  15.028861\n",
      "Return the third element from each group\n",
      "      price  width category\n",
      "name                       \n",
      "cat     102    2.3        A\n",
      "dog      34    7.8        B\n"
     ]
    }
   ],
   "source": [
    "df = pd.read_csv(\"sample1.csv\", sep=\",\")\n",
    "g = df.groupby('name')\n",
    "print(g['price'].agg(np.sum))\n",
    "\n",
    "# aggregate on multiple functions\n",
    "print(\"calculate the sum/mean/std for name group price column\")\n",
    "print(g[\"price\"].agg([np.sum, np.mean, np.std]))\n",
    "\n",
    "# nth element\n",
    "print(\"Return the third element from each group\")\n",
    "print(g.nth(3))"
   ]
  },
  {
   "cell_type": "markdown",
   "id": "49ceda5f",
   "metadata": {},
   "source": [
    "### Deletion in a DataFrame"
   ]
  },
  {
   "cell_type": "code",
   "execution_count": 29,
   "id": "a5767bfa",
   "metadata": {},
   "outputs": [
    {
     "name": "stdout",
     "output_type": "stream",
     "text": [
      "The original df has 3 rows and 3 columns, the size is (3, 3)\n",
      "      a  b  c\n",
      "cat   1  2  3\n",
      "dog   2  4  6\n",
      "bird  3  6  9\n",
      "------------------------------------------\n",
      "delete the second row which index number is 1, left two rows\n",
      "delete the column with the name \"a\", only left two columns\n",
      "      b  c\n",
      "cat   2  3\n",
      "dog   4  6\n",
      "bird  6  9\n"
     ]
    }
   ],
   "source": [
    "# Drop row by row number\n",
    "\n",
    "d = {\"a\": [1, 2, 3], \"b\": [2, 4, 6], \"c\": [3, 6, 9]}\n",
    "df = pd.DataFrame(d, index=[\"cat\", \"dog\", \"bird\"])\n",
    "print(\"The original df has 3 rows and 3 columns, \"\n",
    "      \"the size is {}\".format(df.shape))\n",
    "print(df)\n",
    "print(\"------------------------------------------\")\n",
    "print(\"delete the second row which index number is 1, left two rows\")\n",
    "df.drop(df.index[1])\n",
    "\n",
    "# Delete a column\n",
    "d = {\"a\": [1, 2, 3], \"b\": [2, 4, 6], \"c\": [3, 6, 9]}\n",
    "df = pd.DataFrame(d, index=[\"cat\", \"dog\", \"bird\"])\n",
    "print(\"delete the column with the name \\\"a\\\", only left two columns\")\n",
    "df = df.drop('a', axis=1)\n",
    "print(df)"
   ]
  },
  {
   "cell_type": "markdown",
   "id": "b3f4aa49",
   "metadata": {},
   "source": [
    "### Select Data From DataFrame"
   ]
  },
  {
   "cell_type": "code",
   "execution_count": 32,
   "id": "d51e6dc9",
   "metadata": {},
   "outputs": [
    {
     "name": "stdout",
     "output_type": "stream",
     "text": [
      "The original dataframe object\n",
      "   a  b\n",
      "0  a  1\n",
      "1  b  2\n",
      "2  c  3\n",
      "3  d  4\n",
      "select the rows whose \"a\" column is equal to \"c\"\n",
      "   a  b\n",
      "2  c  3\n",
      "The original dataframe object.\n",
      "  col1  col2\n",
      "0    a     1\n",
      "1    b     2\n",
      "2    c     3\n",
      "3    d     4\n",
      "4    a     2\n",
      "  col1  col2\n",
      "0    a     1\n",
      "4    a     2\n",
      "----------------------------\n",
      "  col1  col2\n",
      "0    a     1\n",
      "----------------------------\n",
      "  col1  col2\n",
      "0    a     1\n",
      "1    b     2\n",
      "2    c     3\n",
      "4    a     2\n",
      "----------------------------\n"
     ]
    }
   ],
   "source": [
    "# select using []\n",
    "d = {\"a\": [\"a\", \"b\", \"c\", \"d\"], \"b\": [1, 2, 3, 4]}\n",
    "df = pd.DataFrame(d)\n",
    "print(\"The original dataframe object\")\n",
    "print(df)\n",
    "df_filter = df[df.a == \"c\"]\n",
    "print(\"select the rows whose \\\"a\\\" column is equal to \\\"c\\\"\")\n",
    "print(df_filter)\n",
    "\n",
    "# select by query\n",
    "d = {\"col1\": [\"a\", \"b\", \"c\", \"d\", \"a\"],\n",
    "     \"col2\": [1, 2, 3, 4, 2]}\n",
    "df = pd.DataFrame(d)\n",
    "print(\"The original dataframe object.\")\n",
    "print(df)\n",
    "df_filter = df.query('col1 == \"a\"')\n",
    "print(df_filter)\n",
    "print(\"----------------------------\")\n",
    "df_filter = df.query('col1 == \"a\" & col2 == 1')\n",
    "print(df_filter)\n",
    "print(\"----------------------------\")\n",
    "df_filter = df.query('col1 in [\"a\", \"b\", \"c\"]')\n",
    "print(df_filter)\n",
    "print(\"----------------------------\")"
   ]
  },
  {
   "cell_type": "markdown",
   "id": "e9f5057f",
   "metadata": {},
   "source": [
    "### Sorting a DataFrame\n",
    "- Sort DataFrame by index\n",
    "- Sort DataFrame by values\n",
    "- N largest/smallest value\n",
    "- Stable sort"
   ]
  },
  {
   "cell_type": "code",
   "execution_count": 43,
   "id": "4e34b1a5",
   "metadata": {},
   "outputs": [
    {
     "name": "stdout",
     "output_type": "stream",
     "text": [
      "         c1        c2\n",
      "0 -1.102006 -0.129547\n",
      "1 -0.598566  0.639370\n",
      "2  0.825798  1.775960\n",
      "3  0.018924  0.024648\n",
      "         c1        c2\n",
      "0 -1.102006 -0.129547\n",
      "1 -0.598566  0.639370\n",
      "3  0.018924  0.024648\n",
      "2  0.825798  1.775960\n",
      "         c1        c2\n",
      "2  0.825798  1.775960\n",
      "3  0.018924  0.024648\n",
      "         c1        c2\n",
      "0 -1.102006 -0.129547\n",
      "1 -0.598566  0.639370\n",
      "3  0.018924  0.024648\n"
     ]
    }
   ],
   "source": [
    "#Sort DataFrame by index\n",
    "df = pd.DataFrame(np.random.randn(4,2), index=[3,1,0,2], columns = ['c1','c2'])\n",
    "sorted_df = df.sort_index()\n",
    "print(sorted_df)\n",
    "\n",
    "# Sort DataFrame by values\n",
    "sorted_df_by_val = df.sort_values(by='c1')\n",
    "print(sorted_df_by_val)\n",
    "\n",
    "# N largest/smallest value\n",
    "result1 = df.nlargest(2, \"c1\")\n",
    "result2 = df.nsmallest(3, \"c1\")\n",
    "\n",
    "print(result1)\n",
    "print(result2)"
   ]
  },
  {
   "cell_type": "markdown",
   "id": "fe9776fd",
   "metadata": {},
   "source": [
    "### Apply Function to a DataFrame"
   ]
  },
  {
   "cell_type": "code",
   "execution_count": 49,
   "id": "67023333",
   "metadata": {},
   "outputs": [
    {
     "data": {
      "text/html": [
       "<div>\n",
       "<style scoped>\n",
       "    .dataframe tbody tr th:only-of-type {\n",
       "        vertical-align: middle;\n",
       "    }\n",
       "\n",
       "    .dataframe tbody tr th {\n",
       "        vertical-align: top;\n",
       "    }\n",
       "\n",
       "    .dataframe thead th {\n",
       "        text-align: right;\n",
       "    }\n",
       "</style>\n",
       "<table border=\"1\" class=\"dataframe\">\n",
       "  <thead>\n",
       "    <tr style=\"text-align: right;\">\n",
       "      <th></th>\n",
       "      <th>a</th>\n",
       "      <th>b</th>\n",
       "      <th>c</th>\n",
       "      <th>a_times_two</th>\n",
       "      <th>a_plus_b</th>\n",
       "      <th>a_square</th>\n",
       "    </tr>\n",
       "  </thead>\n",
       "  <tbody>\n",
       "    <tr>\n",
       "      <th>0</th>\n",
       "      <td>1</td>\n",
       "      <td>2</td>\n",
       "      <td>3</td>\n",
       "      <td>2</td>\n",
       "      <td>3</td>\n",
       "      <td>1</td>\n",
       "    </tr>\n",
       "    <tr>\n",
       "      <th>1</th>\n",
       "      <td>2</td>\n",
       "      <td>3</td>\n",
       "      <td>4</td>\n",
       "      <td>4</td>\n",
       "      <td>5</td>\n",
       "      <td>4</td>\n",
       "    </tr>\n",
       "    <tr>\n",
       "      <th>2</th>\n",
       "      <td>3</td>\n",
       "      <td>4</td>\n",
       "      <td>5</td>\n",
       "      <td>6</td>\n",
       "      <td>7</td>\n",
       "      <td>9</td>\n",
       "    </tr>\n",
       "    <tr>\n",
       "      <th>3</th>\n",
       "      <td>4</td>\n",
       "      <td>5</td>\n",
       "      <td>6</td>\n",
       "      <td>8</td>\n",
       "      <td>9</td>\n",
       "      <td>16</td>\n",
       "    </tr>\n",
       "  </tbody>\n",
       "</table>\n",
       "</div>"
      ],
      "text/plain": [
       "   a  b  c  a_times_two  a_plus_b  a_square\n",
       "0  1  2  3            2         3         1\n",
       "1  2  3  4            4         5         4\n",
       "2  3  4  5            6         7         9\n",
       "3  4  5  6            8         9        16"
      ]
     },
     "execution_count": 49,
     "metadata": {},
     "output_type": "execute_result"
    }
   ],
   "source": [
    "d = {\"a\": [1,2,3,4],\"b\":[2,3,4,5],\"c\":[3,4,5,6]}\n",
    "df = pd.DataFrame(d)\n",
    "df[\"a_times_two\"] = df[\"a\"].apply(lambda s:s*2)\n",
    "\n",
    "# Apply on multiple columns\n",
    "df[\"a_plus_b\"] = df.apply(lambda row:row.a + row.b, axis=1)\n",
    "\n",
    "# Add a column directly\n",
    "df[\"a_square\"] = df[\"a\"]**2\n",
    "df"
   ]
  },
  {
   "cell_type": "markdown",
   "id": "1e32ccf3",
   "metadata": {},
   "source": [
    "### Iteration Data in DataFrame\n",
    "- iterrows()\n",
    "- iteritems()\n",
    "- itertuples()\n",
    "\n",
    "DataFrame has a function, iterrows(), which iterates over the rows as (index, series) pairs.\n",
    "\n",
    "iteritems() goes over each column as (key, value) pairs. In other words, in this iteration, you get a pair where the key is the column name(label) and the value is the corresponding column, which is a Series type.\n",
    "\n",
    "itertuples() This yields a named tuple for each row in DataFrame. The first element of this tuple is the index and the remaining values are corresponding columns."
   ]
  },
  {
   "cell_type": "code",
   "execution_count": 54,
   "id": "31504d55",
   "metadata": {},
   "outputs": [
    {
     "name": "stdout",
     "output_type": "stream",
     "text": [
      "Index 0 and row a    1\n",
      "b    2\n",
      "Name: 0, dtype: int64\n",
      "Index 1 and row a    2\n",
      "b    3\n",
      "Name: 1, dtype: int64\n",
      "Index 2 and row a    3\n",
      "b    4\n",
      "Name: 2, dtype: int64\n",
      "Index 3 and row a    4\n",
      "b    5\n",
      "Name: 3, dtype: int64\n",
      "Index 4 and row a    5\n",
      "b    6\n",
      "Name: 4, dtype: int64\n",
      "The column name a, the corresponding value [1 2 3 4 5]\n",
      "The column name b, the corresponding value [2 3 4 5 6]\n",
      "The row index is 0, the column a value is 1, the column b value is 2\n",
      "The row index is 1, the column a value is 2, the column b value is 3\n",
      "The row index is 2, the column a value is 3, the column b value is 4\n",
      "The row index is 3, the column a value is 4, the column b value is 5\n",
      "The row index is 4, the column a value is 5, the column b value is 6\n"
     ]
    }
   ],
   "source": [
    "#iterrows \n",
    "\n",
    "d = {\"a\":[1,2,3,4,5],\"b\":[2,3,4,5,6]}\n",
    "df = pd.DataFrame(d)\n",
    "\n",
    "for index, row in df.iterrows():\n",
    "    print(\"Index {} and row {}\".format(index,row))\n",
    " \n",
    "#iteritems\n",
    "\n",
    "for k, v in df.iteritems():\n",
    "    print(\"The column name {}, the corresponding value {}\".format(k,v.values))\n",
    "\n",
    "#itertuples\n",
    "for r in df.itertuples():\n",
    "    print(\"The row index is {}, the column a value is {}, \"\n",
    "          \"the column b value is {}\".format(r.Index, r.a, r.b))"
   ]
  },
  {
   "cell_type": "code",
   "execution_count": null,
   "id": "877ee7f8",
   "metadata": {},
   "outputs": [],
   "source": []
  }
 ],
 "metadata": {
  "kernelspec": {
   "display_name": "Python 3",
   "language": "python",
   "name": "python3"
  },
  "language_info": {
   "codemirror_mode": {
    "name": "ipython",
    "version": 3
   },
   "file_extension": ".py",
   "mimetype": "text/x-python",
   "name": "python",
   "nbconvert_exporter": "python",
   "pygments_lexer": "ipython3",
   "version": "3.8.8"
  }
 },
 "nbformat": 4,
 "nbformat_minor": 5
}
