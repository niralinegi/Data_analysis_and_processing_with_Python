{
 "cells": [
  {
   "cell_type": "markdown",
   "id": "fcda6ad2",
   "metadata": {},
   "source": [
    "### Creation in Numpy"
   ]
  },
  {
   "cell_type": "markdown",
   "id": "30563c47",
   "metadata": {},
   "source": [
    "1. Create an array of Zeroes"
   ]
  },
  {
   "cell_type": "code",
   "execution_count": 5,
   "id": "dda29552",
   "metadata": {},
   "outputs": [
    {
     "data": {
      "text/plain": [
       "array([0., 0., 0.])"
      ]
     },
     "execution_count": 5,
     "metadata": {},
     "output_type": "execute_result"
    }
   ],
   "source": [
    "import numpy as np\n",
    "\n",
    "# np.zeros(size)\n",
    "np.zeros(3) "
   ]
  },
  {
   "cell_type": "markdown",
   "id": "b50e0b83",
   "metadata": {},
   "source": [
    "2. Create an Array of Ones"
   ]
  },
  {
   "cell_type": "code",
   "execution_count": 6,
   "id": "a2124098",
   "metadata": {},
   "outputs": [
    {
     "data": {
      "text/plain": [
       "array([1., 1., 1., 1.])"
      ]
     },
     "execution_count": 6,
     "metadata": {},
     "output_type": "execute_result"
    }
   ],
   "source": [
    "np.ones(4)"
   ]
  },
  {
   "cell_type": "markdown",
   "id": "492f279e",
   "metadata": {},
   "source": [
    "3. Create an Array of 0’s and 1’s"
   ]
  },
  {
   "cell_type": "code",
   "execution_count": 7,
   "id": "3e76de9d",
   "metadata": {},
   "outputs": [
    {
     "data": {
      "text/plain": [
       "array([1, 0, 0, 0, 1, 0, 1])"
      ]
     },
     "execution_count": 7,
     "metadata": {},
     "output_type": "execute_result"
    }
   ],
   "source": [
    "np.array([1,0,0,0,1,0,1])"
   ]
  },
  {
   "cell_type": "markdown",
   "id": "89b83d24",
   "metadata": {},
   "source": [
    "4. Create an Array of 2’s"
   ]
  },
  {
   "cell_type": "code",
   "execution_count": 8,
   "id": "a5053ccc",
   "metadata": {},
   "outputs": [
    {
     "data": {
      "text/plain": [
       "array([2., 2., 2., 2., 2.])"
      ]
     },
     "execution_count": 8,
     "metadata": {},
     "output_type": "execute_result"
    }
   ],
   "source": [
    "2*np.ones(5)"
   ]
  },
  {
   "cell_type": "markdown",
   "id": "112c4494",
   "metadata": {},
   "source": [
    "5. Create a NumPy Array of any Length"
   ]
  },
  {
   "cell_type": "code",
   "execution_count": 9,
   "id": "420d7c03",
   "metadata": {},
   "outputs": [
    {
     "data": {
      "text/plain": [
       "array([0, 1, 2, 3, 4])"
      ]
     },
     "execution_count": 9,
     "metadata": {},
     "output_type": "execute_result"
    }
   ],
   "source": [
    "np.arange(5)"
   ]
  },
  {
   "cell_type": "markdown",
   "id": "ad528d27",
   "metadata": {},
   "source": [
    "6. Reshape a NumPy Array into a Column Vector"
   ]
  },
  {
   "cell_type": "code",
   "execution_count": 11,
   "id": "d2cfbede",
   "metadata": {},
   "outputs": [
    {
     "data": {
      "text/plain": [
       "array([[0],\n",
       "       [1],\n",
       "       [2],\n",
       "       [3],\n",
       "       [4],\n",
       "       [5],\n",
       "       [6],\n",
       "       [7],\n",
       "       [8]])"
      ]
     },
     "execution_count": 11,
     "metadata": {},
     "output_type": "execute_result"
    }
   ],
   "source": [
    "# np.arange(size).reshape(size,1)\n",
    "\n",
    "np.arange(9).reshape(9,1)"
   ]
  },
  {
   "cell_type": "code",
   "execution_count": 12,
   "id": "0b9d5dc0",
   "metadata": {},
   "outputs": [
    {
     "data": {
      "text/plain": [
       "array([[0, 1, 2],\n",
       "       [3, 4, 5],\n",
       "       [6, 7, 8]])"
      ]
     },
     "execution_count": 12,
     "metadata": {},
     "output_type": "execute_result"
    }
   ],
   "source": [
    "np.arange(9).reshape(3,3)"
   ]
  },
  {
   "cell_type": "markdown",
   "id": "1eaf6e2b",
   "metadata": {},
   "source": [
    "7. Generate Array of Random Numbers and in Grid Format"
   ]
  },
  {
   "cell_type": "code",
   "execution_count": 13,
   "id": "85e718e5",
   "metadata": {},
   "outputs": [
    {
     "data": {
      "text/plain": [
       "array([[1, 1, 2],\n",
       "       [0, 3, 8],\n",
       "       [4, 8, 6]])"
      ]
     },
     "execution_count": 13,
     "metadata": {},
     "output_type": "execute_result"
    }
   ],
   "source": [
    "# np.random.randit(0, size, (x_dim, y_dim))\n",
    "\n",
    "np.random.randint(0,9,(3,3))"
   ]
  },
  {
   "cell_type": "markdown",
   "id": "9e7cf62b",
   "metadata": {},
   "source": [
    "8 Create a Linspace"
   ]
  },
  {
   "cell_type": "code",
   "execution_count": 17,
   "id": "ba59e32f",
   "metadata": {},
   "outputs": [
    {
     "data": {
      "text/plain": [
       "array([ 2.,  4.,  6.,  8., 10.])"
      ]
     },
     "execution_count": 17,
     "metadata": {},
     "output_type": "execute_result"
    }
   ],
   "source": [
    "# Evenly spaced numbers np.linspace(start, stop, size)\n",
    "\n",
    "np.linspace(2,10,5)"
   ]
  },
  {
   "cell_type": "markdown",
   "id": "021fa753",
   "metadata": {},
   "source": [
    "9. Create a Mesh Grid"
   ]
  },
  {
   "cell_type": "code",
   "execution_count": 19,
   "id": "999e0044",
   "metadata": {},
   "outputs": [
    {
     "data": {
      "text/plain": [
       "array([[[0, 0, 0],\n",
       "        [1, 1, 1],\n",
       "        [2, 2, 2]],\n",
       "\n",
       "       [[0, 1, 2],\n",
       "        [0, 1, 2],\n",
       "        [0, 1, 2]]])"
      ]
     },
     "execution_count": 19,
     "metadata": {},
     "output_type": "execute_result"
    }
   ],
   "source": [
    "# dense multi-dimensional mesh grid. np.mgrid[0:xdim, 0:ydim]\n",
    "\n",
    "np.mgrid[0:3, 0:3]"
   ]
  },
  {
   "cell_type": "markdown",
   "id": "d6538182",
   "metadata": {},
   "source": [
    "### Reshaping in NumPy"
   ]
  },
  {
   "cell_type": "code",
   "execution_count": 20,
   "id": "51853ee8",
   "metadata": {},
   "outputs": [],
   "source": [
    "Z = np.array([0,0,0,0,0,0,0,0,0,0,1,0])\n",
    "\n",
    "# Z=np.array(1D_array).reshape(x_dimension,y_dimension)"
   ]
  },
  {
   "cell_type": "markdown",
   "id": "4436be5d",
   "metadata": {},
   "source": [
    "1. Reshape to 12 rows and 1 column"
   ]
  },
  {
   "cell_type": "code",
   "execution_count": 22,
   "id": "8d1f0af3",
   "metadata": {},
   "outputs": [
    {
     "data": {
      "text/plain": [
       "array([[0],\n",
       "       [0],\n",
       "       [0],\n",
       "       [0],\n",
       "       [0],\n",
       "       [0],\n",
       "       [0],\n",
       "       [0],\n",
       "       [0],\n",
       "       [0],\n",
       "       [1],\n",
       "       [0]])"
      ]
     },
     "execution_count": 22,
     "metadata": {},
     "output_type": "execute_result"
    }
   ],
   "source": [
    "m =  np.array(Z).reshape(12,1)\n",
    "m"
   ]
  },
  {
   "cell_type": "markdown",
   "id": "e23b89af",
   "metadata": {},
   "source": [
    "2. Reshape to 6 rows and 2 columns"
   ]
  },
  {
   "cell_type": "code",
   "execution_count": 23,
   "id": "9bd43839",
   "metadata": {},
   "outputs": [
    {
     "data": {
      "text/plain": [
       "array([[0, 0],\n",
       "       [0, 0],\n",
       "       [0, 0],\n",
       "       [0, 0],\n",
       "       [0, 0],\n",
       "       [1, 0]])"
      ]
     },
     "execution_count": 23,
     "metadata": {},
     "output_type": "execute_result"
    }
   ],
   "source": [
    "n = np.array(Z).reshape(6,2)\n",
    "n"
   ]
  },
  {
   "cell_type": "markdown",
   "id": "8b1b91f3",
   "metadata": {},
   "source": [
    "### Indexing in NumPy"
   ]
  },
  {
   "cell_type": "markdown",
   "id": "2daeb1cb",
   "metadata": {},
   "source": [
    "1. Get the First Value"
   ]
  },
  {
   "cell_type": "code",
   "execution_count": 24,
   "id": "744ffc18",
   "metadata": {},
   "outputs": [
    {
     "name": "stdout",
     "output_type": "stream",
     "text": [
      "0\n"
     ]
    }
   ],
   "source": [
    "Z = np.arange(9).reshape(3,3)\n",
    "print(Z[0,0])"
   ]
  },
  {
   "cell_type": "markdown",
   "id": "0337c085",
   "metadata": {},
   "source": [
    "2. Get the Last Value"
   ]
  },
  {
   "cell_type": "code",
   "execution_count": 25,
   "id": "44859afe",
   "metadata": {},
   "outputs": [
    {
     "name": "stdout",
     "output_type": "stream",
     "text": [
      "8\n"
     ]
    }
   ],
   "source": [
    "Z = np.arange(9).reshape(3,3)\n",
    "print(Z[-1,-1])"
   ]
  },
  {
   "cell_type": "markdown",
   "id": "a1279b8f",
   "metadata": {},
   "source": [
    "3. Get a row from a Grid"
   ]
  },
  {
   "cell_type": "code",
   "execution_count": 26,
   "id": "a5f7795e",
   "metadata": {},
   "outputs": [
    {
     "data": {
      "text/plain": [
       "array([6, 7, 8])"
      ]
     },
     "execution_count": 26,
     "metadata": {},
     "output_type": "execute_result"
    }
   ],
   "source": [
    "# Z[row_index]\n",
    "Z[2]"
   ]
  },
  {
   "cell_type": "markdown",
   "id": "2173484a",
   "metadata": {},
   "source": [
    "4. Get a Column from a Grid"
   ]
  },
  {
   "cell_type": "code",
   "execution_count": 28,
   "id": "5e9e6861",
   "metadata": {},
   "outputs": [
    {
     "data": {
      "text/plain": [
       "array([2, 5, 8])"
      ]
     },
     "execution_count": 28,
     "metadata": {},
     "output_type": "execute_result"
    }
   ],
   "source": [
    "# Z[:, col_index]\n",
    "Z[:,2]"
   ]
  },
  {
   "cell_type": "markdown",
   "id": "eead71c0",
   "metadata": {},
   "source": [
    "5. Get a Mini-grid from a Grid"
   ]
  },
  {
   "cell_type": "code",
   "execution_count": 30,
   "id": "8684461c",
   "metadata": {},
   "outputs": [
    {
     "data": {
      "text/plain": [
       "array([[4, 5],\n",
       "       [7, 8]])"
      ]
     },
     "execution_count": 30,
     "metadata": {},
     "output_type": "execute_result"
    }
   ],
   "source": [
    "# Z[row_index: , col_index:]\n",
    "Z[1:,1:]"
   ]
  },
  {
   "cell_type": "markdown",
   "id": "55f71ab5",
   "metadata": {},
   "source": [
    "6. Arrange Values from a Grid in a Mini-grid"
   ]
  },
  {
   "cell_type": "markdown",
   "id": "3eaaf6e3",
   "metadata": {},
   "source": [
    "To get the values from corners of a grid and arrange them in a grid format write: Z[::row_size-1,::column_size-1]"
   ]
  },
  {
   "cell_type": "code",
   "execution_count": 31,
   "id": "dae0b34d",
   "metadata": {},
   "outputs": [
    {
     "data": {
      "text/plain": [
       "array([[0, 2],\n",
       "       [6, 8]])"
      ]
     },
     "execution_count": 31,
     "metadata": {},
     "output_type": "execute_result"
    }
   ],
   "source": [
    "Z[::2, ::2]"
   ]
  },
  {
   "cell_type": "markdown",
   "id": "111f27e4",
   "metadata": {},
   "source": [
    "7. Get Specific Indices from a Grid"
   ]
  },
  {
   "cell_type": "code",
   "execution_count": 36,
   "id": "709268b7",
   "metadata": {},
   "outputs": [
    {
     "name": "stdout",
     "output_type": "stream",
     "text": [
      "[0 5]\n"
     ]
    }
   ],
   "source": [
    "import numpy as np\n",
    "Z = np.arange(9).reshape(3,3)\n",
    "print(Z[[0,1],[0,2]]) # returns values at indices (0,0) and (1,2)"
   ]
  },
  {
   "cell_type": "markdown",
   "id": "e0f294bd",
   "metadata": {},
   "source": [
    "### Broadcasting in NumPy"
   ]
  },
  {
   "cell_type": "markdown",
   "id": "909db5a2",
   "metadata": {},
   "source": [
    "General rules for Broadcasting#\n",
    "When operating on two arrays, NumPy compares their shapes element-wise. It starts with the trailing dimensions and works its way forward. Two dimensions of size N are compatible when\n",
    "\n",
    "- they are equal, or\n",
    "- one of them is the singular value\n",
    "- one is N * N and other is N * 1\n",
    "- one is N * N and other is 1 * N"
   ]
  },
  {
   "cell_type": "markdown",
   "id": "37ad5678",
   "metadata": {},
   "source": [
    "1. When one operand is N*N and other is 1 * 1"
   ]
  },
  {
   "cell_type": "code",
   "execution_count": 38,
   "id": "f556bf2a",
   "metadata": {},
   "outputs": [
    {
     "data": {
      "text/plain": [
       "array([[1, 2, 3],\n",
       "       [4, 5, 6],\n",
       "       [7, 8, 9]])"
      ]
     },
     "execution_count": 38,
     "metadata": {},
     "output_type": "execute_result"
    }
   ],
   "source": [
    "Z1 = np.arange(9).reshape(3,3)\n",
    "Z2 = 1\n",
    "Z1+Z2"
   ]
  },
  {
   "cell_type": "markdown",
   "id": "3a8a6f3f",
   "metadata": {},
   "source": [
    "2. When one operand is N * N and other is N * 1"
   ]
  },
  {
   "cell_type": "code",
   "execution_count": 41,
   "id": "46192228",
   "metadata": {},
   "outputs": [
    {
     "data": {
      "text/plain": [
       "array([[2, 3, 4],\n",
       "       [4, 5, 6],\n",
       "       [6, 7, 8]])"
      ]
     },
     "execution_count": 41,
     "metadata": {},
     "output_type": "execute_result"
    }
   ],
   "source": [
    "Z1 = np.arange(9).reshape(3,3)\n",
    "Z2 = np.arange(3)[::-1].reshape(3,1)\n",
    "Z1 + Z2"
   ]
  },
  {
   "cell_type": "code",
   "execution_count": 44,
   "id": "20121ad0",
   "metadata": {},
   "outputs": [
    {
     "data": {
      "text/plain": [
       "array([[2],\n",
       "       [1],\n",
       "       [0]])"
      ]
     },
     "execution_count": 44,
     "metadata": {},
     "output_type": "execute_result"
    }
   ],
   "source": [
    "np.arange(3)[::-1].reshape(3,1)"
   ]
  },
  {
   "cell_type": "markdown",
   "id": "642f0e55",
   "metadata": {},
   "source": [
    "3. When one operand is N * N and other is 1 * N"
   ]
  },
  {
   "cell_type": "code",
   "execution_count": 45,
   "id": "f0682c35",
   "metadata": {},
   "outputs": [
    {
     "data": {
      "text/plain": [
       "array([[2, 2, 2],\n",
       "       [5, 5, 5],\n",
       "       [8, 8, 8]])"
      ]
     },
     "execution_count": 45,
     "metadata": {},
     "output_type": "execute_result"
    }
   ],
   "source": [
    "Z1 = np.arange(9).reshape(3,3)\n",
    "Z2 = np.arange(3)[::-1]\n",
    "Z1 + Z2"
   ]
  },
  {
   "cell_type": "markdown",
   "id": "10b3fdc7",
   "metadata": {},
   "source": [
    "### Indexing vs Fancy indexing"
   ]
  },
  {
   "cell_type": "code",
   "execution_count": 4,
   "id": "cdf712e8",
   "metadata": {},
   "outputs": [
    {
     "name": "stdout",
     "output_type": "stream",
     "text": [
      "Z1 [[0.28098819 0.38842547 0.11724967 0.73257246 0.04010086]\n",
      " [0.32024075 0.53934554 0.23460956 0.67347368 0.57952596]\n",
      " [0.78253439 0.54318911 0.78054154 0.08230955 0.77465139]]\n",
      "Z2 [[0.28098819 0.38842547 0.11724967 0.73257246 0.04010086]\n",
      " [0.32024075 0.53934554 0.23460956 0.67347368 0.57952596]\n",
      " [0.78253439 0.54318911 0.78054154 0.08230955 0.77465139]]\n",
      "True\n",
      "True\n",
      "False\n",
      "True\n"
     ]
    }
   ],
   "source": [
    "import numpy as np\n",
    "Z = np.random.uniform(0,1,(5,5)) #draws sample from a uniform distribution\n",
    "Z1 = Z[:3,:] # creates copy\n",
    "print(\"Z1\",Z1)\n",
    "Z2 = Z[[0,1,2], :] # creates view\n",
    "print(\"Z2\",Z2)\n",
    "print(np.allclose(Z1,Z2)) #returns True if two arrays are element-wise equal within a tolerance.\n",
    "print(Z1.base is Z)#return true if memory of Z1 is shared with Z and false otherwise\n",
    "print(Z2.base is Z)#return true if memory of Z2 is shared with Z and false otherwise\n",
    "print(Z2.base is None) #return true if memory of Z2 is not shared"
   ]
  },
  {
   "cell_type": "code",
   "execution_count": null,
   "id": "38c174e6",
   "metadata": {},
   "outputs": [],
   "source": []
  },
  {
   "cell_type": "code",
   "execution_count": null,
   "id": "74e4e0bd",
   "metadata": {},
   "outputs": [],
   "source": []
  }
 ],
 "metadata": {
  "kernelspec": {
   "display_name": "Python 3",
   "language": "python",
   "name": "python3"
  },
  "language_info": {
   "codemirror_mode": {
    "name": "ipython",
    "version": 3
   },
   "file_extension": ".py",
   "mimetype": "text/x-python",
   "name": "python",
   "nbconvert_exporter": "python",
   "pygments_lexer": "ipython3",
   "version": "3.8.8"
  }
 },
 "nbformat": 4,
 "nbformat_minor": 5
}
